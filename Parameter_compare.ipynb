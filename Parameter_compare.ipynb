{
 "metadata": {
  "name": "",
  "signature": "sha256:552b63971c06cbe7a68eb0b8c9ca7951e7010fabc86ff876253a032d6a8ebcf1"
 },
 "nbformat": 3,
 "nbformat_minor": 0,
 "worksheets": [
  {
   "cells": [
    {
     "cell_type": "code",
     "collapsed": false,
     "input": [
      "from csv import reader\n",
      "from model_parameters import parameters, parameter_vectors\n",
      "%pylab inline"
     ],
     "language": "python",
     "metadata": {},
     "outputs": [
      {
       "output_type": "stream",
       "stream": "stdout",
       "text": [
        "Populating the interactive namespace from numpy and matplotlib\n"
       ]
      }
     ],
     "prompt_number": 25
    },
    {
     "cell_type": "code",
     "collapsed": false,
     "input": [
      "with open('test_parameters.csv', 'rb') as csvfile:\n",
      "    read = reader(csvfile)\n",
      "    all_rows = []\n",
      "    for row in read:\n",
      "        all_rows.append(row)"
     ],
     "language": "python",
     "metadata": {},
     "outputs": [],
     "prompt_number": 26
    },
    {
     "cell_type": "code",
     "collapsed": false,
     "input": [
      "all_ps = []\n",
      "for data_set in range(1, 26):\n",
      "    ini_val = []\n",
      "    for n in all_rows[data_set][1:18]:\n",
      "        ini_val.append(float(n))\n",
      "    p = parameters(ini_val)\n",
      "    all_ps.append(p)"
     ],
     "language": "python",
     "metadata": {},
     "outputs": [],
     "prompt_number": 27
    },
    {
     "cell_type": "code",
     "collapsed": false,
     "input": [
      "para_V = parameter_vectors(all_ps)"
     ],
     "language": "python",
     "metadata": {},
     "outputs": [],
     "prompt_number": 28
    },
    {
     "cell_type": "code",
     "collapsed": false,
     "input": [],
     "language": "python",
     "metadata": {},
     "outputs": []
    }
   ],
   "metadata": {}
  }
 ]
}